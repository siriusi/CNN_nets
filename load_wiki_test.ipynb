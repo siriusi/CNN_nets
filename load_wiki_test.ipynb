{
 "cells": [
  {
   "cell_type": "code",
   "execution_count": 2,
   "metadata": {},
   "outputs": [],
   "source": [
    "import numpy as np\n",
    "import math\n",
    "import cv2\n",
    "import sys\n",
    "import scipy.io as sio\n",
    "import matplotlib.pyplot as plt\n",
    "#data = scipy.io.loadmat('G:\\MachineLearning\\wiki\\wiki\\wiki.mat') # 假设文件名为1.mat\n",
    "#print(data[\"wiki\"])"
   ]
  },
  {
   "cell_type": "code",
   "execution_count": 101,
   "metadata": {},
   "outputs": [],
   "source": [
    "def load_wiki(wiki_path, target_size = (224,224), num_data = None):\n",
    "    mat_path = wiki_path + 'wiki_with_age.mat'\n",
    "    \n",
    "    data = sio.loadmat(mat_path)\n",
    "    wiki_data = data['wiki'][0][0]\n",
    "   \n",
    "    full_num_data = len(wiki_data[6][0])\n",
    "    if num_data is None or num_data > full_num_data :\n",
    "        num_data = full_num_data\n",
    "        \n",
    "    \n",
    "    full_X_data = np.zeros([num_data, 224, 224, 3])\n",
    "    full_y_data = np.zeros([num_data])\n",
    "    data_count = 0\n",
    "    #len(wiki_data[6][0])\n",
    "    for i in range(num_data):\n",
    "\n",
    "        face_score =wiki_data[6][0][i]\n",
    "        if face_score != float(\"-inf\"):\n",
    "            full_path = wiki_path + wiki_data[2][0][i][0]\n",
    "            img = cv2.imread(full_path)\n",
    "            age = wiki_data[8][0][i]\n",
    "            date_of_birth = wiki_data[0][0][i]  #下面的657438是出生于1800年的Matlab serial date number\n",
    "            if img is not None and date_of_birth > 657438 and age >= 0 and age <= 100:\n",
    "                face_loc = wiki_data[5][0][i][0]\n",
    "                face_loc = face_loc.astype(\"int32\")\n",
    "                roi_img = img[face_loc[1]:face_loc[3], face_loc[0]:face_loc[2]]\n",
    "                face_img = cv2.resize(roi_img, target_size)\n",
    "                full_X_data[data_count] = face_img\n",
    "               \n",
    "                gender = wiki_data[3][0][i]\n",
    "                full_y_data[data_count] = gender * 100 + age #一共分为200类，0-99是女性的1-100岁，100-199是男性的1-100岁\n",
    "                \n",
    "                data_count += 1\n",
    "    X_data = full_X_data[:data_count]\n",
    "    y_data = full_y_data[:data_count]\n",
    "    \n",
    "    return X_data, y_data"
   ]
  },
  {
   "cell_type": "code",
   "execution_count": 32,
   "metadata": {},
   "outputs": [],
   "source": [
    "def get_wiki_data(wiki_path, target_size = (224,224), num_training=49000, num_validation=1000, num_test=1000,):\n",
    "   \n",
    "    X_data, y_data = load_wiki(wiki_path, target_size = target_size, num_data = num_training + num_validation + num_test)\n",
    "    mask = list[:-(num_validation + num_test)]\n",
    "    X_train = X_data[mask]\n",
    "    y_train = y_data[mask]\n",
    "    mask = list[len(y_train) : -num_test]\n",
    "    X_val = X_data[mask]\n",
    "    y_val = y_data[mask]\n",
    "    mask = list[-num_test]\n",
    "    X_test = X_data[mask]\n",
    "    y_test = y_data[mask]\n",
    "    \"\"\"\n",
    "    if X_data.shape[0] > num_training + num_validation + num_test:\n",
    "        # Subsample the data\n",
    "        mask = list(range(num_training + num_validation ,  num_training + num_validation + num_test))\n",
    "        X_test = X_data[mask]\n",
    "        y_test = y_data[mask]\n",
    "        mask = list(range(num_training, num_training + num_validation))\n",
    "        X_val = X_data[mask]\n",
    "        y_val = y_data[mask]\n",
    "        mask = list(range(num_training))\n",
    "        X_train = X_data[mask]\n",
    "        y_train = y_data[mask]\n",
    "    \"\"\"\n",
    "    # Normalize the data: subtract the mean image\n",
    "    if subtract_mean:\n",
    "        mean_image = np.mean(X_data, axis=0)\n",
    "        X_train -= mean_image\n",
    "        X_val -= mean_image\n",
    "        X_test -= mean_image\n",
    "\n",
    "    # Transpose so that channels come first\n",
    "    X_train = X_train.transpose(0, 3, 1, 2).copy()\n",
    "    X_val = X_val.transpose(0, 3, 1, 2).copy()\n",
    "    X_test = X_test.transpose(0, 3, 1, 2).copy()\n",
    "\n",
    "    # Package data into a dictionary\n",
    "    return {\n",
    "      'X_train': X_train, 'y_train': y_train,\n",
    "      'X_val': X_val, 'y_val': y_val,\n",
    "      'X_test': X_test, 'y_test': y_test,\n",
    "    }\n",
    "    "
   ]
  },
  {
   "cell_type": "code",
   "execution_count": 102,
   "metadata": {},
   "outputs": [
    {
     "data": {
      "image/png": "[encoded data removed]",
      "text/plain": [
       "<matplotlib.figure.Figure at 0x4b6beb8>"
      ]
     },
     "metadata": {},
     "output_type": "display_data"
    },
    {
     "name": "stdout",
     "output_type": "stream",
     "text": [
      "2000\n",
      "1427\n",
      "(2000, 224, 224, 3)\n",
      "(2000,)\n",
      "man:  0.7526278906797477\n"
     ]
    }
   ],
   "source": [
    "\n",
    "wiki_path = \"\"\n",
    "if sys.platform == \"linux\" :\n",
    "    wiki_path = \"/devdata/wiki/\"\n",
    "else:\n",
    "    wiki_path = \"G:\\\\MachineLearning\\\\wiki\\\\wiki\\\\\"\n",
    "\n",
    "mat_path = wiki_path + 'wiki_with_age.mat'\n",
    "\n",
    "load_wiki(wiki_path)"
   ]
  },
  {
   "cell_type": "code",
   "execution_count": 77,
   "metadata": {},
   "outputs": [
    {
     "ename": "AttributeError",
     "evalue": "'NoneType' object has no attribute 'shape'",
     "output_type": "error",
     "traceback": [
      "\u001b[1;31m---------------------------------------------------------------------------\u001b[0m",
      "\u001b[1;31mAttributeError\u001b[0m                            Traceback (most recent call last)",
      "\u001b[1;32m<ipython-input-77-a3405abdb921>\u001b[0m in \u001b[0;36m<module>\u001b[1;34m()\u001b[0m\n\u001b[0;32m      1\u001b[0m \u001b[0mtemp\u001b[0m \u001b[1;33m=\u001b[0m \u001b[0mcv2\u001b[0m\u001b[1;33m.\u001b[0m\u001b[0mimread\u001b[0m\u001b[1;33m(\u001b[0m\u001b[1;34m\"C:\\\\Users\\\\Z\\\\Desktop\\\\2006361_1907-12-25_1945.gif\"\u001b[0m\u001b[1;33m)\u001b[0m\u001b[1;33m\u001b[0m\u001b[0m\n\u001b[1;32m----> 2\u001b[1;33m \u001b[0mprint\u001b[0m\u001b[1;33m(\u001b[0m\u001b[0mtemp\u001b[0m\u001b[1;33m.\u001b[0m\u001b[0mshape\u001b[0m\u001b[1;33m)\u001b[0m\u001b[1;33m\u001b[0m\u001b[0m\n\u001b[0m\u001b[0;32m      3\u001b[0m \u001b[0mcv2\u001b[0m\u001b[1;33m.\u001b[0m\u001b[0mimshow\u001b[0m\u001b[1;33m(\u001b[0m\u001b[0mtemp\u001b[0m\u001b[1;33m)\u001b[0m\u001b[1;33m\u001b[0m\u001b[0m\n\u001b[0;32m      4\u001b[0m \u001b[0mcv2\u001b[0m\u001b[1;33m.\u001b[0m\u001b[0mwaitKey\u001b[0m\u001b[1;33m(\u001b[0m\u001b[1;33m)\u001b[0m\u001b[1;33m\u001b[0m\u001b[0m\n\u001b[0;32m      5\u001b[0m \u001b[0mcv2\u001b[0m\u001b[1;33m.\u001b[0m\u001b[0mdestroyAllWindows\u001b[0m\u001b[1;33m(\u001b[0m\u001b[1;33m)\u001b[0m\u001b[1;33m\u001b[0m\u001b[0m\n",
      "\u001b[1;31mAttributeError\u001b[0m: 'NoneType' object has no attribute 'shape'"
     ]
    }
   ],
   "source": [
    "temp = cv2.imread(\"C:\\\\Users\\\\Z\\\\Desktop\\\\2006361_1907-12-25_1945.gif\")\n",
    "print(temp.shape)\n",
    "cv2.imshow(temp)\n",
    "cv2.waitKey()\n",
    "cv2.destroyAllWindows()"
   ]
  },
  {
   "cell_type": "code",
   "execution_count": null,
   "metadata": {},
   "outputs": [],
   "source": [
    "import numpy as np\n",
    "import math\n",
    "import cv2\n",
    "import sys\n",
    "import scipy.io as sio\n",
    "\n",
    "wiki_path = \"\"\n",
    "if sys.platform == \"linux\" :\n",
    "        wiki_path = \"/devdata/wiki/\"\n",
    "else:\n",
    "        wiki_path = \"G:\\\\MachineLearning\\\\wiki\\\\wiki\\\\\"\n",
    "            \n",
    "load_wiki(wiki_path, num_training=49000, num_validation=1000, num_test=1000,)\n"
   ]
  }
 ],
 "metadata": {
  "kernelspec": {
   "display_name": "Python 3",
   "language": "python",
   "name": "python3"
  },
  "language_info": {
   "codemirror_mode": {
    "name": "ipython",
    "version": 3
   },
   "file_extension": ".py",
   "mimetype": "text/x-python",
   "name": "python",
   "nbconvert_exporter": "python",
   "pygments_lexer": "ipython3",
   "version": "3.6.2"
  }
 },
 "nbformat": 4,
 "nbformat_minor": 2
}
